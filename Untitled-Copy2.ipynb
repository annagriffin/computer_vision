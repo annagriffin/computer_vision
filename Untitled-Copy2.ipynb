{
 "cells": [
  {
   "cell_type": "code",
   "execution_count": 2,
   "metadata": {},
   "outputs": [],
   "source": [
    "import numpy as np\n",
    "import cv2\n",
    "from matplotlib import pyplot as plt\n",
    "import math"
   ]
  },
  {
   "cell_type": "code",
   "execution_count": 98,
   "metadata": {},
   "outputs": [],
   "source": [
    "img = cv2.imread('images/triangle.jpg')\n",
    "img = cv2.flip(img, 1) \n",
    "\n",
    "# convert to RGB\n",
    "image = cv2.cvtColor(img, cv2.COLOR_BGR2RGB)\n",
    "# convert to grayscale\n",
    "gray = cv2.cvtColor(image, cv2.COLOR_RGB2GRAY)\n",
    "\n",
    "# create a binary thresholded image\n",
    "_, binary = cv2.threshold(gray, 225, 255, cv2.THRESH_BINARY_INV)"
   ]
  },
  {
   "cell_type": "code",
   "execution_count": 99,
   "metadata": {},
   "outputs": [
    {
     "data": {
      "text/plain": [
       "array([[0, 0, 0, ..., 0, 0, 0],\n",
       "       [0, 0, 0, ..., 0, 0, 0],\n",
       "       [0, 0, 0, ..., 0, 0, 0],\n",
       "       ...,\n",
       "       [0, 0, 0, ..., 0, 0, 0],\n",
       "       [0, 0, 0, ..., 0, 0, 0],\n",
       "       [0, 0, 0, ..., 0, 0, 0]], dtype=uint8)"
      ]
     },
     "execution_count": 99,
     "metadata": {},
     "output_type": "execute_result"
    }
   ],
   "source": [
    "binary"
   ]
  },
  {
   "cell_type": "code",
   "execution_count": 100,
   "metadata": {},
   "outputs": [
    {
     "data": {
      "image/png": "[encoded data removed]",
      "text/plain": [
       "<Figure size 432x288 with 1 Axes>"
      ]
     },
     "metadata": {
      "needs_background": "light"
     },
     "output_type": "display_data"
    }
   ],
   "source": [
    "# background pixel - black - 255\n",
    "# object pixel - white - 0\n",
    "\n",
    "plt.imshow(binary, cmap=\"gray\")\n",
    "plt.show()\n"
   ]
  },
  {
   "cell_type": "code",
   "execution_count": 101,
   "metadata": {},
   "outputs": [],
   "source": [
    "class ContourPoint:\n",
    "    def __init__(self, x=0, y=0, N=0, H=0):\n",
    "        self.x = x\n",
    "        self.y = y\n",
    "        self.N = N\n",
    "        self.H = H\n",
    "        \n",
    "    def __str__(self):\n",
    "        return(\"x: {}, y: {}, N: {}, H: {}\".format(self.x, self.y, self.N, self.H))"
   ]
  },
  {
   "cell_type": "code",
   "execution_count": 113,
   "metadata": {},
   "outputs": [],
   "source": [
    "def get_2x2(matrix, point, is_left):\n",
    "    j = point.x\n",
    "    i = point.y\n",
    "    \n",
    "    # left contours\n",
    "    if is_left:\n",
    "        return (matrix[i][j], matrix[i-1][j], matrix[i-1][j+1], matrix[i][j+1])\n",
    "    \n",
    "    #right contours\n",
    "    else:\n",
    "        return (matrix[i][j], matrix[i+1][j], matrix[i+1][j-1], matrix[i][j-1])"
   ]
  },
  {
   "cell_type": "code",
   "execution_count": 114,
   "metadata": {},
   "outputs": [],
   "source": [
    "def horizontal_movement(matrix, point, is_left):\n",
    "    \n",
    "    twobytwo = get_2x2(matrix, point, is_left)\n",
    "    \n",
    "    # a orientation and h orientation\n",
    "    if (is_left and twobytwo == (0, 0, 0, 255)) or (not is_left and twobytwo == (0, 255, 255, 255)):\n",
    "        # positive direction\n",
    "        return 1\n",
    "    \n",
    "    # c orientation and f orientation \n",
    "    elif (is_left and twobytwo == (0, 255, 255, 255)) or (not is_left and twobytwo == (0, 0, 0, 255)):\n",
    "        # negative direction\n",
    "        return -1\n",
    "    else:\n",
    "        \n",
    "        # no horizontal direction\n",
    "        return 0\n",
    "    \n",
    "      \n",
    "    "
   ]
  },
  {
   "cell_type": "code",
   "execution_count": 115,
   "metadata": {},
   "outputs": [],
   "source": [
    "\n",
    "def get_LF_points(img):\n",
    "    \n",
    "    list_of_contours = []\n",
    "    prev = None\n",
    "\n",
    "    for i, row in enumerate(img):\n",
    "        points_in_row = []\n",
    "\n",
    "        for j, pixel in reversed(list(enumerate(row))):\n",
    "\n",
    "\n",
    "            # left contour\n",
    "            if prev == 0 and pixel == 255:\n",
    "                new_point = ContourPoint()\n",
    "                new_point.x = j\n",
    "                new_point.y = i\n",
    "                new_point.N = 1 # left contour\n",
    "                new_point.H = horizontal_movement(img, new_point, False)\n",
    "                points_in_row.append(new_point)\n",
    "\n",
    "\n",
    "            # right contour\n",
    "            elif prev == 255 and pixel == 0:\n",
    "                new_point = ContourPoint()\n",
    "                new_point.x = j\n",
    "                new_point.y = i\n",
    "                new_point.N = -1 # right contour \n",
    "                new_point.H = horizontal_movement(img, new_point, True)\n",
    "                points_in_row.append(new_point)\n",
    "\n",
    "            prev = pixel\n",
    "\n",
    "        total_points = len(points_in_row)\n",
    "        for point in points_in_row:\n",
    "            point.N = point.N * total_points\n",
    "\n",
    "\n",
    "        list_of_contours.extend(points_in_row)\n",
    "        \n",
    "    return list_of_contours\n"
   ]
  },
  {
   "cell_type": "code",
   "execution_count": 137,
   "metadata": {},
   "outputs": [
    {
     "data": {
      "text/plain": [
       "776"
      ]
     },
     "execution_count": 137,
     "metadata": {},
     "output_type": "execute_result"
    }
   ],
   "source": [
    "d = get_LF_points(binary)\n",
    "len(d)"
   ]
  },
  {
   "cell_type": "code",
   "execution_count": 117,
   "metadata": {},
   "outputs": [],
   "source": [
    "x = []\n",
    "y = []\n",
    "for each in d:\n",
    "    x.append(each.x)\n",
    "    y.append(each.y)"
   ]
  },
  {
   "cell_type": "code",
   "execution_count": 135,
   "metadata": {},
   "outputs": [
    {
     "data": {
      "image/png": "[encoded data removed]",
      "text/plain": [
       "<Figure size 432x288 with 1 Axes>"
      ]
     },
     "metadata": {
      "needs_background": "light"
     },
     "output_type": "display_data"
    }
   ],
   "source": [
    "plt.scatter(x, y, s=0.1)\n",
    "plt.show()"
   ]
  },
  {
   "cell_type": "code",
   "execution_count": 119,
   "metadata": {},
   "outputs": [
    {
     "data": {
      "text/plain": [
       "[<__main__.ContourPoint at 0x7fab419bf790>,\n",
       " <__main__.ContourPoint at 0x7fab419bf7f0>,\n",
       " <__main__.ContourPoint at 0x7fab419bf430>,\n",
       " <__main__.ContourPoint at 0x7fab419bfa30>,\n",
       " <__main__.ContourPoint at 0x7fab419bf910>,\n",
       " <__main__.ContourPoint at 0x7fab419bf850>,\n",
       " <__main__.ContourPoint at 0x7fab419bf8e0>,\n",
       " <__main__.ContourPoint at 0x7fab419bf700>,\n",
       " <__main__.ContourPoint at 0x7fab419bfe20>,\n",
       " <__main__.ContourPoint at 0x7fab419bf280>,\n",
       " <__main__.ContourPoint at 0x7fab419bfd90>,\n",
       " <__main__.ContourPoint at 0x7fab419bf550>,\n",
       " <__main__.ContourPoint at 0x7fab419bf6d0>,\n",
       " <__main__.ContourPoint at 0x7fab419bf880>,\n",
       " <__main__.ContourPoint at 0x7fab419bf2b0>,\n",
       " <__main__.ContourPoint at 0x7fab419bf2e0>]"
      ]
     },
     "execution_count": 119,
     "metadata": {},
     "output_type": "execute_result"
    }
   ],
   "source": [
    "way_point = []\n",
    "\n",
    "test_table = []\n",
    "test_table.append(ContourPoint(6,1,-2,-1))\n",
    "test_table.append(ContourPoint(3,1,2,-1))\n",
    "test_table.append(ContourPoint(7,2,-2,-1))\n",
    "\n",
    "test_table.append(ContourPoint(2,2,2,-1))\n",
    "test_table.append(ContourPoint(8,3,-4,-1))\n",
    "test_table.append(ContourPoint(6,3,4,0))\n",
    "\n",
    "test_table.append(ContourPoint(3,3,-4,1))\n",
    "test_table.append(ContourPoint(1,3,4,0))\n",
    "test_table.append(ContourPoint(8,4,-4,0))\n",
    "\n",
    "test_table.append(ContourPoint(6,4,4,0))\n",
    "test_table.append(ContourPoint(3,4,-4,0))\n",
    "test_table.append(ContourPoint(1,4,4,0))\n",
    "\n",
    "test_table.append(ContourPoint(8,5,-4,0))\n",
    "test_table.append(ContourPoint(6,5,4,1))\n",
    "test_table.append(ContourPoint(3,5,-4,0))\n",
    "test_table.append(ContourPoint(1,5, 4, 1))\n",
    "\n",
    "test_table"
   ]
  },
  {
   "cell_type": "code",
   "execution_count": 144,
   "metadata": {},
   "outputs": [],
   "source": [
    "def re_ordering(table):\n",
    "    points_ordered = []\n",
    "    i = 1\n",
    "    \n",
    "    while True:\n",
    "        m = get_adjacent_scan_line_N(i, table)\n",
    "        K = get_possible_contour_neighbors(i, table, m)\n",
    "        k = filter_contour_canidates(table[i], K, table)\n",
    "        \n",
    "        points_ordered.append(table[k])\n",
    "        \n",
    "        i = k\n",
    "        if i == 1:\n",
    "            break\n",
    "    \n",
    "    return points_ordered\n",
    "  "
   ]
  },
  {
   "cell_type": "code",
   "execution_count": 143,
   "metadata": {},
   "outputs": [
    {
     "data": {
      "text/plain": [
       "[<__main__.ContourPoint at 0x7fab41626ca0>,\n",
       " <__main__.ContourPoint at 0x7fab416269a0>]"
      ]
     },
     "execution_count": 143,
     "metadata": {},
     "output_type": "execute_result"
    }
   ],
   "source": [
    "\n",
    "k = re_ordering(d)\n",
    "k"
   ]
  },
  {
   "cell_type": "code",
   "execution_count": 133,
   "metadata": {},
   "outputs": [
    {
     "name": "stdout",
     "output_type": "stream",
     "text": [
      "x: 122, y: 16, N: 2, H: 0\n",
      "x: 121, y: 16, N: -2, H: 1\n"
     ]
    }
   ],
   "source": [
    "for each in k:\n",
    "    print(each)"
   ]
  },
  {
   "cell_type": "code",
   "execution_count": 134,
   "metadata": {},
   "outputs": [
    {
     "name": "stdout",
     "output_type": "stream",
     "text": [
      "x: 2, y: 2, N: 2, H: -1\n",
      "x: 1, y: 3, N: 4, H: 0\n",
      "x: 1, y: 4, N: 4, H: 0\n",
      "x: 1, y: 5, N: 4, H: 1\n",
      "x: 3, y: 5, N: -4, H: 0\n",
      "x: 3, y: 4, N: -4, H: 0\n",
      "x: 3, y: 3, N: -4, H: 1\n",
      "x: 6, y: 3, N: 4, H: 0\n",
      "x: 6, y: 4, N: 4, H: 0\n",
      "x: 6, y: 5, N: 4, H: 1\n",
      "x: 8, y: 5, N: -4, H: 0\n",
      "x: 8, y: 4, N: -4, H: 0\n",
      "x: 8, y: 3, N: -4, H: -1\n",
      "x: 7, y: 2, N: -2, H: -1\n",
      "x: 6, y: 1, N: -2, H: -1\n",
      "x: 3, y: 1, N: 2, H: -1\n"
     ]
    }
   ],
   "source": [
    "r = re_ordering(test_table)\n",
    "for each in r:\n",
    "    print(each)"
   ]
  },
  {
   "cell_type": "code",
   "execution_count": 50,
   "metadata": {},
   "outputs": [],
   "source": [
    "x = []\n",
    "y = []\n",
    "for each in r:\n",
    "    x.append(each.x)\n",
    "    y.append(each.y)"
   ]
  },
  {
   "cell_type": "code",
   "execution_count": 51,
   "metadata": {},
   "outputs": [
    {
     "data": {
      "image/png": "[encoded data removed]",
      "text/plain": [
       "<Figure size 432x288 with 1 Axes>"
      ]
     },
     "metadata": {
      "needs_background": "light"
     },
     "output_type": "display_data"
    }
   ],
   "source": [
    "plt.plot(x,y)\n",
    "plt.show()"
   ]
  },
  {
   "cell_type": "code",
   "execution_count": 43,
   "metadata": {},
   "outputs": [],
   "source": [
    "def get_adjacent_scan_line_N(point_idx, storage_table):\n",
    "    \n",
    "    current_point = storage_table[point_idx]\n",
    "    isLeft = 1\n",
    "    \n",
    "    if current_point.N < 0:\n",
    "        isLeft = -1\n",
    "        \n",
    "    \n",
    "    while True:\n",
    "        new_idx = point_idx + (2 * isLeft)\n",
    "        \n",
    "        next_point = storage_table[new_idx % len(storage_table)]\n",
    "        if next_point.y != current_point.y:\n",
    "            return next_point.N\n",
    "        else:\n",
    "            point_idx = new_idx\n",
    "            current_point = next_point\n",
    "    \n",
    "    \n",
    "    "
   ]
  },
  {
   "cell_type": "code",
   "execution_count": 134,
   "metadata": {
    "scrolled": true
   },
   "outputs": [
    {
     "name": "stdout",
     "output_type": "stream",
     "text": [
      "2\n"
     ]
    }
   ],
   "source": [
    "l = get_adjacent_scan_line_N(15, test_table)\n",
    "print(l)"
   ]
  },
  {
   "cell_type": "code",
   "execution_count": null,
   "metadata": {},
   "outputs": [],
   "source": [
    "for each in test_table:\n",
    "    print(each)"
   ]
  },
  {
   "cell_type": "code",
   "execution_count": 44,
   "metadata": {},
   "outputs": [],
   "source": [
    "def get_possible_contour_neighbors(point_idx, storage_table, m):\n",
    "    \n",
    "    i = point_idx\n",
    "    possible_contours = [i-1, i+1]\n",
    "    current_point = storage_table[i]\n",
    "    \n",
    "    counter = i + current_point.N\n",
    "    \n",
    "    while counter <= point_idx + m:\n",
    "        possible_contours.append(counter)\n",
    "        counter += 2\n",
    "    \n",
    "    h = [n % len(storage_table) for n in possible_contours]\n",
    "    return h"
   ]
  },
  {
   "cell_type": "code",
   "execution_count": null,
   "metadata": {},
   "outputs": [],
   "source": [
    "o = get_possible_contour_neighbors(15, test_table, 2)\n",
    "o"
   ]
  },
  {
   "cell_type": "code",
   "execution_count": 45,
   "metadata": {},
   "outputs": [],
   "source": [
    "def filter_contour_canidates(current_point, canidates, table):\n",
    "    horizontal_direction = current_point.H\n",
    "    \n",
    "    for p in reversed(canidates):\n",
    "        temp_point = table[p]\n",
    "        if current_point.x - temp_point.x > 0 and horizontal_direction == 1:\n",
    "            canidates.remove(p)\n",
    "        elif current_point.x - temp_point.x < 0 and horizontal_direction == -1:\n",
    "            canidates.remove(p)\n",
    "        \n",
    "        \n",
    "    \n",
    "    return get_shortest_distance(current_point, canidates, table)"
   ]
  },
  {
   "cell_type": "code",
   "execution_count": null,
   "metadata": {},
   "outputs": [],
   "source": [
    "j = filter_contour_canidates(test_table[6], [2, 4, 5, 7], test_table)"
   ]
  },
  {
   "cell_type": "code",
   "execution_count": null,
   "metadata": {},
   "outputs": [],
   "source": [
    "print(j)"
   ]
  },
  {
   "cell_type": "code",
   "execution_count": 46,
   "metadata": {},
   "outputs": [],
   "source": [
    "def get_distance(p1, p2):\n",
    "    return math.sqrt(math.pow(p2.x - p1.x, 2) + math.pow(p2.y - p1.y, 2))"
   ]
  },
  {
   "cell_type": "code",
   "execution_count": 47,
   "metadata": {},
   "outputs": [],
   "source": [
    "def get_shortest_distance(point, canidates, table):\n",
    "    \n",
    "    closest_distance = None\n",
    "    closest_point = None\n",
    "    \n",
    "    for each in canidates:\n",
    "        dist = get_distance(point, table[each])\n",
    "        if closest_distance == None or dist < closest_distance:\n",
    "            closest_distance = dist\n",
    "            closest_point = each\n",
    "     \n",
    "    # index\n",
    "    return closest_point"
   ]
  },
  {
   "cell_type": "code",
   "execution_count": null,
   "metadata": {},
   "outputs": [],
   "source": [
    "lis"
   ]
  },
  {
   "cell_type": "code",
   "execution_count": null,
   "metadata": {},
   "outputs": [],
   "source": []
  }
 ],
 "metadata": {
  "kernelspec": {
   "display_name": "Python 3",
   "language": "python",
   "name": "python3"
  },
  "language_info": {
   "codemirror_mode": {
    "name": "ipython",
    "version": 3
   },
   "file_extension": ".py",
   "mimetype": "text/x-python",
   "name": "python",
   "nbconvert_exporter": "python",
   "pygments_lexer": "ipython3",
   "version": "3.8.5"
  }
 },
 "nbformat": 4,
 "nbformat_minor": 4
}
