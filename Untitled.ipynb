{
 "cells": [
  {
   "cell_type": "code",
   "execution_count": 1,
   "metadata": {},
   "outputs": [],
   "source": [
    "import numpy as np\n",
    "import cv2\n",
    "from matplotlib import pyplot as plt\n",
    "import math"
   ]
  },
  {
   "cell_type": "code",
   "execution_count": 2,
   "metadata": {},
   "outputs": [],
   "source": [
    "img = cv2.imread('images/shape.jpg')\n",
    "\n",
    "\n",
    "# convert to RGB\n",
    "image = cv2.cvtColor(img, cv2.COLOR_BGR2RGB)\n",
    "# convert to grayscale\n",
    "gray = cv2.cvtColor(image, cv2.COLOR_RGB2GRAY)\n",
    "\n",
    "# create a binary thresholded image\n",
    "_, binary = cv2.threshold(gray, 225, 255, cv2.THRESH_BINARY_INV)"
   ]
  },
  {
   "cell_type": "code",
   "execution_count": 3,
   "metadata": {},
   "outputs": [
    {
     "data": {
      "text/plain": [
       "array([[0, 0, 0, ..., 0, 0, 0],\n",
       "       [0, 0, 0, ..., 0, 0, 0],\n",
       "       [0, 0, 0, ..., 0, 0, 0],\n",
       "       ...,\n",
       "       [0, 0, 0, ..., 0, 0, 0],\n",
       "       [0, 0, 0, ..., 0, 0, 0],\n",
       "       [0, 0, 0, ..., 0, 0, 0]], dtype=uint8)"
      ]
     },
     "execution_count": 3,
     "metadata": {},
     "output_type": "execute_result"
    }
   ],
   "source": [
    "binary"
   ]
  },
  {
   "cell_type": "code",
   "execution_count": 4,
   "metadata": {},
   "outputs": [
    {
     "data": {
      "image/png": "[encoded data removed]",
      "text/plain": [
       "<Figure size 432x288 with 1 Axes>"
      ]
     },
     "metadata": {
      "needs_background": "light"
     },
     "output_type": "display_data"
    }
   ],
   "source": [
    "# background pixel - black - 255\n",
    "# object pixel - white - 0\n",
    "\n",
    "plt.imshow(binary, cmap=\"gray\")\n",
    "plt.show()\n"
   ]
  },
  {
   "cell_type": "code",
   "execution_count": 5,
   "metadata": {},
   "outputs": [],
   "source": [
    "class ContourPoint:\n",
    "    def __init__(self, x=0, y=0, N=0, H=0):\n",
    "        self.x = x\n",
    "        self.y = y\n",
    "        self.N = N\n",
    "        self.H = H\n",
    "        \n",
    "    def __str__(self):\n",
    "        return(\"x: {}, y: {}, N: {}, H: {}\".format(self.x, self.y, self.N, self.H))"
   ]
  },
  {
   "cell_type": "code",
   "execution_count": 6,
   "metadata": {},
   "outputs": [],
   "source": [
    "def get_2x2(matrix, point, is_left):\n",
    "    i = point.x\n",
    "    j = point.y\n",
    "    \n",
    "    # left contours\n",
    "    if is_left:\n",
    "        return (matrix[i][j], matrix[i-1][j], matrix[i-1][j+1], matrix[i][j+1])\n",
    "    \n",
    "    #right contours\n",
    "    else:\n",
    "        return (matrix[i][j], matrix[i+1][j], matrix[i+1][j-1], matrix[i][j-1])"
   ]
  },
  {
   "cell_type": "code",
   "execution_count": 7,
   "metadata": {},
   "outputs": [],
   "source": [
    "def horizontal_movement(matrix, point, is_left):\n",
    "    \n",
    "    twobytwo = get_2x2(matrix, point, is_left)\n",
    "    \n",
    "    # a orientation and h orientation\n",
    "    if (is_left and twobytwo == (0, 0, 0, 255)) or (not is_left and twobytwo == (0, 255, 255, 255)):\n",
    "        # positive direction\n",
    "        return 1\n",
    "    \n",
    "    # c orientation and f orientation \n",
    "    elif (is_left and twobytwo == (0, 255, 255, 255)) or (not is_left and twobytwo == (0, 0, 0, 255)):\n",
    "        # negative direction\n",
    "        return -1\n",
    "    else:\n",
    "        \n",
    "        # no horizontal direction\n",
    "        return 0\n",
    "    \n",
    "      \n",
    "    "
   ]
  },
  {
   "cell_type": "code",
   "execution_count": 8,
   "metadata": {},
   "outputs": [],
   "source": [
    "\n",
    "def get_LF_points(img):\n",
    "    \n",
    "    list_of_contours = []\n",
    "    prev = None\n",
    "\n",
    "    for i, row in enumerate(img):\n",
    "        points_in_row = []\n",
    "\n",
    "        for j, pixel in reversed(list(enumerate(row))):\n",
    "\n",
    "\n",
    "            # left contour\n",
    "            if prev == 0 and pixel == 255:\n",
    "                new_point = ContourPoint()\n",
    "                new_point.x = i\n",
    "                new_point.y = j\n",
    "                new_point.N = 1 # left contour\n",
    "                new_point.H = horizontal_movement(img, new_point, False)\n",
    "                points_in_row.append(new_point)\n",
    "\n",
    "\n",
    "            # right contour\n",
    "            elif prev == 255 and pixel == 0:\n",
    "                new_point = ContourPoint()\n",
    "                new_point.x = i\n",
    "                new_point.y = j\n",
    "                new_point.N = -1 # right contour \n",
    "                new_point.H = horizontal_movement(img, new_point, True)\n",
    "                points_in_row.append(new_point)\n",
    "\n",
    "            prev = pixel\n",
    "\n",
    "        total_points = len(points_in_row)\n",
    "        for point in points_in_row:\n",
    "            point.N = point.N * total_points\n",
    "\n",
    "\n",
    "        list_of_contours.extend(points_in_row)\n",
    "        \n",
    "    return list_of_contours\n"
   ]
  },
  {
   "cell_type": "code",
   "execution_count": 9,
   "metadata": {},
   "outputs": [],
   "source": [
    "d = get_LF_points(binary)"
   ]
  },
  {
   "cell_type": "code",
   "execution_count": 11,
   "metadata": {},
   "outputs": [
    {
     "data": {
      "text/plain": [
       "[<__main__.ContourPoint at 0x7faa6fb03460>,\n",
       " <__main__.ContourPoint at 0x7faa6fb03400>,\n",
       " <__main__.ContourPoint at 0x7faa6fb03490>,\n",
       " <__main__.ContourPoint at 0x7faa6fb034c0>,\n",
       " <__main__.ContourPoint at 0x7faa6fb03580>,\n",
       " <__main__.ContourPoint at 0x7faa6fb035e0>,\n",
       " <__main__.ContourPoint at 0x7faa6fb03640>,\n",
       " <__main__.ContourPoint at 0x7faa6fb036a0>,\n",
       " <__main__.ContourPoint at 0x7faa6fb03700>,\n",
       " <__main__.ContourPoint at 0x7faa6fb03760>,\n",
       " <__main__.ContourPoint at 0x7faa6fb037c0>,\n",
       " <__main__.ContourPoint at 0x7faa6fb03820>,\n",
       " <__main__.ContourPoint at 0x7faa6fb03880>,\n",
       " <__main__.ContourPoint at 0x7faa6fb038e0>,\n",
       " <__main__.ContourPoint at 0x7faa6fb03940>,\n",
       " <__main__.ContourPoint at 0x7faa6fb039a0>]"
      ]
     },
     "execution_count": 11,
     "metadata": {},
     "output_type": "execute_result"
    }
   ],
   "source": [
    "way_point = []\n",
    "\n",
    "test_table = []\n",
    "test_table.append(ContourPoint(6,1,-2,-1))\n",
    "test_table.append(ContourPoint(3,1,2,-1))\n",
    "test_table.append(ContourPoint(7,2,-2,-1))\n",
    "\n",
    "test_table.append(ContourPoint(2,2,2,-1))\n",
    "test_table.append(ContourPoint(8,3,-4,-1))\n",
    "test_table.append(ContourPoint(6,3,4,0))\n",
    "\n",
    "test_table.append(ContourPoint(3,3,-4,1))\n",
    "test_table.append(ContourPoint(1,3,4,0))\n",
    "test_table.append(ContourPoint(8,4,-4,0))\n",
    "\n",
    "test_table.append(ContourPoint(6,4,4,0))\n",
    "test_table.append(ContourPoint(3,4,-4,0))\n",
    "test_table.append(ContourPoint(1,4,4,0))\n",
    "\n",
    "test_table.append(ContourPoint(8,4,-4,0))\n",
    "test_table.append(ContourPoint(6,4,4,1))\n",
    "test_table.append(ContourPoint(3,4,-4,0))\n",
    "test_table.append(ContourPoint(1,4, 4, 1))\n",
    "\n",
    "test_table"
   ]
  },
  {
   "cell_type": "code",
   "execution_count": 35,
   "metadata": {},
   "outputs": [],
   "source": [
    "def get_adjacent_scan_line_N(point_idx, storage_table):\n",
    "    \n",
    "    current_point = storage_table[point_idx]\n",
    "    isLeft = 1\n",
    "    \n",
    "    if current_point.N < 0:\n",
    "        isLeft = -1\n",
    "        \n",
    "    \n",
    "    while True:\n",
    "        new_idx = point_idx + (2 * isLeft)\n",
    "        \n",
    "        next_point = storage_table[new_idx]\n",
    "        if next_point.y != current_point.y:\n",
    "            return next_point\n",
    "        else:\n",
    "            point_idx = new_idx\n",
    "            current_point = next_point\n",
    "    \n",
    "    \n",
    "    "
   ]
  },
  {
   "cell_type": "code",
   "execution_count": 104,
   "metadata": {},
   "outputs": [],
   "source": [
    "def get_distance(p1, p2):\n",
    "    return math.sqrt(math.pow(p2.x - p1.x, 2) + math.pow(p2.y - p1.y, 2))"
   ]
  },
  {
   "cell_type": "code",
   "execution_count": 69,
   "metadata": {
    "scrolled": true
   },
   "outputs": [
    {
     "name": "stdout",
     "output_type": "stream",
     "text": [
      "x: 7, y: 2, N: -2, H: -1\n"
     ]
    }
   ],
   "source": [
    "l = get_adjacent_scan_line_N(6, test_table)\n",
    "print(l)"
   ]
  },
  {
   "cell_type": "code",
   "execution_count": 59,
   "metadata": {},
   "outputs": [],
   "source": [
    "def get_possible_contour_neighbors(point_idx, storage_table, m):\n",
    "    \n",
    "    i = point_idx\n",
    "    possible_contours = [i-1, i+1]\n",
    "    current_point = storage_table[i]\n",
    "    \n",
    "    counter = i + current_point.N\n",
    "    \n",
    "    while counter <= point_idx + m:\n",
    "        possible_contours.append(counter)\n",
    "        counter += 2\n",
    "    \n",
    "    \n",
    "    return possible_contours"
   ]
  },
  {
   "cell_type": "code",
   "execution_count": 98,
   "metadata": {},
   "outputs": [],
   "source": [
    "def get_shortest_distance(point, canidates, table):\n",
    "    \n",
    "    closest_distance = None\n",
    "    closest_point = None\n",
    "    \n",
    "    for each in canidates:\n",
    "        dist = get_distance(point, table[each])\n",
    "        if closest_distance == None or dist < closest_distance:\n",
    "            closest_distance = dist\n",
    "            closest_point = each\n",
    "     \n",
    "    # index\n",
    "    return closest_point"
   ]
  },
  {
   "cell_type": "code",
   "execution_count": 70,
   "metadata": {},
   "outputs": [
    {
     "data": {
      "text/plain": [
       "[5, 7, 2, 4]"
      ]
     },
     "execution_count": 70,
     "metadata": {},
     "output_type": "execute_result"
    }
   ],
   "source": [
    "o = get_possible_contour_neighbors(6, test_table, -2)\n",
    "o"
   ]
  },
  {
   "cell_type": "code",
   "execution_count": 101,
   "metadata": {},
   "outputs": [],
   "source": [
    "def filter_contour_canidates(current_point, canidates, table):\n",
    "    horizontal_direction = current_point.H\n",
    "    \n",
    "    for p in canidates:\n",
    "        temp_point = table[p]\n",
    "        if temp_point.x > 0 and horizontal_direction == 1:\n",
    "            canidates.remove(p)\n",
    "        if temp_point.x < 0 and horizontal_direction == -1:\n",
    "            canidates.remove(p)\n",
    "        \n",
    "        \n",
    "        \n",
    "            \n",
    "    return get_shortest_distance(current_point, canidates, table)"
   ]
  },
  {
   "cell_type": "code",
   "execution_count": 102,
   "metadata": {},
   "outputs": [],
   "source": [
    "j = filter_contour_canidates(test_table[6], [5,7,2,4], test_table)"
   ]
  },
  {
   "cell_type": "code",
   "execution_count": 103,
   "metadata": {},
   "outputs": [
    {
     "name": "stdout",
     "output_type": "stream",
     "text": [
      "7\n"
     ]
    }
   ],
   "source": [
    "print(j)"
   ]
  },
  {
   "cell_type": "code",
   "execution_count": null,
   "metadata": {},
   "outputs": [],
   "source": []
  }
 ],
 "metadata": {
  "kernelspec": {
   "display_name": "Python 3",
   "language": "python",
   "name": "python3"
  },
  "language_info": {
   "codemirror_mode": {
    "name": "ipython",
    "version": 3
   },
   "file_extension": ".py",
   "mimetype": "text/x-python",
   "name": "python",
   "nbconvert_exporter": "python",
   "pygments_lexer": "ipython3",
   "version": "3.8.5"
  }
 },
 "nbformat": 4,
 "nbformat_minor": 4
}
